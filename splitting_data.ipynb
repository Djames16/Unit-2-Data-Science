{
 "cells": [
  {
   "cell_type": "markdown",
   "metadata": {},
   "source": [
    "# Splitting Data\n",
    "In this lab you will begin working with data sets with multiple peices of information. Multiple pieces of information is normally stored in format called **CSV** which stands for Comma Seperate Values.\n",
    "\n",
    "For any questions, edit the appropriate markdown block and answer between the ` ``` ``` ` using complete sentences. \n",
    "\n",
    "For any code blocks you are to include comments explaining your code to recieve full credit."
   ]
  },
  {
   "attachments": {},
   "cell_type": "markdown",
   "metadata": {},
   "source": [
    "1. Open the file `sales.csv` in VSCode, how is the data organized? How can you differentiate between the various pieces of information included in this data set?\n",
    "```\n",
    "The data is organized with the comma seperated value which is like a column like format so that means after a comma there is supposed to be a different piece of information.\n",
    "```\n",
    "\n",
    "2. Is this a effective method of storing data? Why or why not?\n",
    "```\n",
    "I believe it is a effective way of storing data because while it isn't visually appealing; information is consistent everytime after a comma and easy for computers to read.\n",
    "```\n",
    "\n",
    "3. What types of information is stored in this file? How could this information be used by a business?\n",
    "```\n",
    "Information that is stored in this file is data like sales, and inventory which can be used by businesses to stay organized.\n",
    "```\n",
    "\n",
    "4. How would we seperate each piece of information to be used in a python program?\n",
    "```\n",
    "We can seperate it by using a variable with a .split with a comma in quotations in a parenthesis to show that we want to split up information with a comma.\n",
    "```"
   ]
  },
  {
   "cell_type": "markdown",
   "metadata": {},
   "source": [
    "Run the following code, and analyze the output"
   ]
  },
  {
   "cell_type": "code",
   "execution_count": 3,
   "metadata": {},
   "outputs": [
    {
     "name": "stdout",
     "output_type": "stream",
     "text": [
      "Counter({'B': 5, 'A': 3, 'C': 2})\n"
     ]
    }
   ],
   "source": [
    "from collections import Counter\n",
    "\n",
    "letters = ['B','B','A','B','C','A','B','B','A','C']\n",
    "\n",
    "letters_count = Counter(letters)\n",
    "\n",
    "print(letters_count)\n",
    "\n",
    "#After importing the counter and assigning a list full of different strings. I put a new variable to show the output of counting how many strings were the same. Then printed this new variable to print how many time A, B and C was repeated within the list."
   ]
  },
  {
   "attachments": {},
   "cell_type": "markdown",
   "metadata": {},
   "source": [
    "5. What was the output of the above code block? What did it accomplish?\n",
    "```\n",
    "The output of the code was every letter in the list counted and listed how many times every letter was printed.\n",
    "```\n",
    "6. What is the format of the output? What data type does it most relate to?\n",
    "```\n",
    "The format of the output is the letter with the most times being printed is printed first with how many times it was printed, then the second highest, then the letter with the least. The data type it relates the most to is a dictionary.\n",
    "```"
   ]
  },
  {
   "cell_type": "markdown",
   "metadata": {},
   "source": [
    "*Use the code block below to open `sales.csv` with python. Then create a variable called `content` which is equal to a list of each line of the file*"
   ]
  },
  {
   "cell_type": "code",
   "execution_count": 4,
   "metadata": {},
   "outputs": [],
   "source": [
    "Sales = open('sales.csv')\n",
    "Content=Sales.readlines()\n",
    "# I set a new variable for sales and opened the sales file so that it can be set to the newly made sales variable. I then added a new variable so I can read every line of the sales file."
   ]
  },
  {
   "cell_type": "markdown",
   "metadata": {},
   "source": [
    "*Using the `split` function, seperate each row of data. Then append the customer's name to a list called `customers`*"
   ]
  },
  {
   "cell_type": "code",
   "execution_count": 5,
   "metadata": {},
   "outputs": [
    {
     "name": "stdout",
     "output_type": "stream",
     "text": [
      "The sales of January is $ 48694.84000000002\n",
      "The sales of February is $ 42517.880000000034\n",
      "The sales of March is $ 52615.749999999985\n"
     ]
    }
   ],
   "source": [
    "J=0\n",
    "F=0\n",
    "M=0\n",
    "del Content [0]\n",
    "for line in Content:\n",
    "    parts = line.strip().split(',')\n",
    "    date = parts[3]\n",
    "    month = date.split('/')[0]\n",
    "    total = float (parts[2])\n",
    "\n",
    "    if month ==\"1\":\n",
    "        J+= total\n",
    "    elif month ==\"2\":\n",
    "        F+= total\n",
    "    elif month ==\"3\":\n",
    "        M+= total\n",
    "    \n",
    "print(\"The sales of January is $\", J)\n",
    "print(\"The sales of February is $\", F)\n",
    "print(\"The sales of March is $\", M)\n",
    "\n",
    "# I set 3 different variables equal to 0"
   ]
  }
 ],
 "metadata": {
  "kernelspec": {
   "display_name": "Python 3",
   "language": "python",
   "name": "python3"
  },
  "language_info": {
   "codemirror_mode": {
    "name": "ipython",
    "version": 3
   },
   "file_extension": ".py",
   "mimetype": "text/x-python",
   "name": "python",
   "nbconvert_exporter": "python",
   "pygments_lexer": "ipython3",
   "version": "3.11.6"
  },
  "vscode": {
   "interpreter": {
    "hash": "b0fa6594d8f4cbf19f97940f81e996739fb7646882a419484c72d19e05852a7e"
   }
  }
 },
 "nbformat": 4,
 "nbformat_minor": 2
}
